{
  "nbformat": 4,
  "nbformat_minor": 0,
  "metadata": {
    "colab": {
      "provenance": []
    },
    "kernelspec": {
      "name": "python3",
      "display_name": "Python 3"
    },
    "language_info": {
      "name": "python"
    }
  },
  "cells": [
    {
      "cell_type": "markdown",
      "source": [
        "Q1. Create one variable containing following type of data:\n",
        "\n",
        "(i)\tstring\n",
        "\n",
        "(ii)\tlist\n",
        "\n",
        "(iii)\tfloat\n",
        "\n",
        "(iv)\ttuple"
      ],
      "metadata": {
        "id": "0MIEWlrRj97E"
      }
    },
    {
      "cell_type": "code",
      "source": [
        "a=\"string\"\n",
        "b=[1,3,44.4,\"var\",True]\n",
        "c=45.55\n",
        "d=(\"var\",1,3,5,[3,61,8])\n",
        "\n"
      ],
      "metadata": {
        "id": "qI8fw5XOkGJb"
      },
      "execution_count": 5,
      "outputs": []
    },
    {
      "cell_type": "markdown",
      "source": [
        "Q2. Given are some following variables containing data:\n",
        "\n",
        "(i)\tvar1 = ‘ ‘\n",
        "\n",
        "(ii)\tvar2 = ‘[ DS , ML , Python]’\n",
        "\n",
        "(iii)\tvar3 = [ ‘DS’ , ’ML’ , ‘Python’ ]\n",
        "\n",
        "(iv)\tvar4 = 1.\n",
        "\n",
        "\n",
        "What will be the data type of the above given variable."
      ],
      "metadata": {
        "id": "I7c7QAk3kJ3v"
      }
    },
    {
      "cell_type": "code",
      "source": [
        "var1 = ''\n",
        "type(var1)\n",
        "\n"
      ],
      "metadata": {
        "colab": {
          "base_uri": "https://localhost:8080/"
        },
        "id": "1xcfie5jkPvp",
        "outputId": "99a07f9f-8d44-4b80-cec5-ecefbe92f0a3"
      },
      "execution_count": 6,
      "outputs": [
        {
          "output_type": "execute_result",
          "data": {
            "text/plain": [
              "str"
            ]
          },
          "metadata": {},
          "execution_count": 6
        }
      ]
    },
    {
      "cell_type": "code",
      "source": [
        "var2 = ‘[ DS , ML , Python]’\n",
        "type(var2)\n"
      ],
      "metadata": {
        "colab": {
          "base_uri": "https://localhost:8080/",
          "height": 131
        },
        "id": "eX_cYCuf12es",
        "outputId": "fbd0dbc9-4a7e-46ca-8f0b-9f3e9bfc8613"
      },
      "execution_count": 7,
      "outputs": [
        {
          "output_type": "error",
          "ename": "SyntaxError",
          "evalue": "ignored",
          "traceback": [
            "\u001b[0;36m  File \u001b[0;32m\"<ipython-input-7-651ad1f57c2b>\"\u001b[0;36m, line \u001b[0;32m1\u001b[0m\n\u001b[0;31m    var2 = ‘[ DS , ML , Python]’\u001b[0m\n\u001b[0m           ^\u001b[0m\n\u001b[0;31mSyntaxError\u001b[0m\u001b[0;31m:\u001b[0m invalid character '‘' (U+2018)\n"
          ]
        }
      ]
    },
    {
      "cell_type": "code",
      "source": [
        "var3 = [ ‘DS’ , ’ML’ , ‘Python’ ]\n",
        "type(var3)"
      ],
      "metadata": {
        "colab": {
          "base_uri": "https://localhost:8080/",
          "height": 131
        },
        "id": "bbdPn31P158O",
        "outputId": "3d90e489-b6f9-4214-de96-311ed21560d2"
      },
      "execution_count": 8,
      "outputs": [
        {
          "output_type": "error",
          "ename": "SyntaxError",
          "evalue": "ignored",
          "traceback": [
            "\u001b[0;36m  File \u001b[0;32m\"<ipython-input-8-b2d6a8936dcc>\"\u001b[0;36m, line \u001b[0;32m1\u001b[0m\n\u001b[0;31m    var3 = [ ‘DS’ , ’ML’ , ‘Python’ ]\u001b[0m\n\u001b[0m             ^\u001b[0m\n\u001b[0;31mSyntaxError\u001b[0m\u001b[0;31m:\u001b[0m invalid character '‘' (U+2018)\n"
          ]
        }
      ]
    },
    {
      "cell_type": "code",
      "source": [
        "var4 = 1.\n",
        "type(var4)"
      ],
      "metadata": {
        "colab": {
          "base_uri": "https://localhost:8080/"
        },
        "id": "qJZ7xMe-2Grj",
        "outputId": "13a2daac-be43-4ca5-f1d6-4cc1fab57511"
      },
      "execution_count": 9,
      "outputs": [
        {
          "output_type": "execute_result",
          "data": {
            "text/plain": [
              "float"
            ]
          },
          "metadata": {},
          "execution_count": 9
        }
      ]
    },
    {
      "cell_type": "markdown",
      "source": [
        "Q3. Explain the use of the following operators using an example:\n",
        "\n",
        "(i)\t/\n",
        "\n",
        "(ii)\t% \n",
        "\n",
        "(iii)\t//\n",
        "\n",
        "(iv)\t**"
      ],
      "metadata": {
        "id": "Lo8wmn9TkRM6"
      }
    },
    {
      "cell_type": "code",
      "source": [
        "a=8\n",
        "b=4\n",
        "c=a/b\n",
        "c1=a%b\n",
        "c2 = a//b\n",
        "c3 = a**b\n",
        "print(c)\n",
        "print(c1)\n",
        "print(c2)\n",
        "print(c3)\n",
        "\n"
      ],
      "metadata": {
        "colab": {
          "base_uri": "https://localhost:8080/"
        },
        "id": "ZrpKW7ctkXf1",
        "outputId": "965d4532-5fcc-4518-c96f-33fe413d6205"
      },
      "execution_count": 10,
      "outputs": [
        {
          "output_type": "stream",
          "name": "stdout",
          "text": [
            "2.0\n",
            "0\n",
            "2\n",
            "4096\n"
          ]
        }
      ]
    },
    {
      "cell_type": "markdown",
      "source": [
        "Q4.Create a list of length 10 of your choice containing multiple types of data. Using for loop print the \n",
        "element and its data type."
      ],
      "metadata": {
        "id": "3a4AerJ1fw2f"
      }
    },
    {
      "cell_type": "code",
      "source": [
        "l = [1,2,\"varshika\",33.33,(5,3,\"data\"),{1,2,3,2,4,5,51,4},True, 3+4j,[5,6,7,8,4]]"
      ],
      "metadata": {
        "id": "sL4UzXief0Im"
      },
      "execution_count": 11,
      "outputs": []
    },
    {
      "cell_type": "code",
      "source": [
        "for i in l:\n",
        "  print(type(i))\n",
        "  "
      ],
      "metadata": {
        "colab": {
          "base_uri": "https://localhost:8080/"
        },
        "id": "Aicqh4-zglDB",
        "outputId": "764c0a97-3541-476e-c72c-75189854f1e0"
      },
      "execution_count": 12,
      "outputs": [
        {
          "output_type": "stream",
          "name": "stdout",
          "text": [
            "<class 'int'>\n",
            "<class 'int'>\n",
            "<class 'str'>\n",
            "<class 'float'>\n",
            "<class 'tuple'>\n",
            "<class 'set'>\n",
            "<class 'bool'>\n",
            "<class 'complex'>\n",
            "<class 'list'>\n"
          ]
        }
      ]
    },
    {
      "cell_type": "markdown",
      "source": [
        "Q5.Using a while loop, verify if the number A is purely divisible by number B and if so then how many \n",
        "times it can be divisible."
      ],
      "metadata": {
        "id": "9oEH7otZi5yq"
      }
    },
    {
      "cell_type": "code",
      "source": [
        "a = int(input(\"enter your no.\"))\n",
        "b = int(input(\"enter your no.\"))\n",
        "c=0\n",
        "while a%b==0:\n",
        "  a=a/b\n",
        "  c+=1\n",
        "print(c)"
      ],
      "metadata": {
        "colab": {
          "base_uri": "https://localhost:8080/"
        },
        "id": "oJNu_9Q3ho4J",
        "outputId": "cc0076dd-975c-47ec-b571-39d2c81dfa35"
      },
      "execution_count": 14,
      "outputs": [
        {
          "output_type": "stream",
          "name": "stdout",
          "text": [
            "enter your no.8\n",
            "enter your no.2\n",
            "3\n"
          ]
        }
      ]
    },
    {
      "cell_type": "markdown",
      "source": [
        "Q6. Create a list containing 25 int type data. Using for loop and if-else condition print if the element is \n",
        "divisible by 3 or not."
      ],
      "metadata": {
        "id": "br5YoJXhkpa9"
      }
    },
    {
      "cell_type": "code",
      "source": [
        "l=[25,2,3,4,6,9,33,21,36,30,77,45,4,5,6,7,86,89,9,45,3,46,78,6,89]\n",
        "for i in l:\n",
        "  if i%3==0:\n",
        "    print(\"divisible by 3\")\n",
        "  else:\n",
        "    print(\"not\")"
      ],
      "metadata": {
        "colab": {
          "base_uri": "https://localhost:8080/"
        },
        "id": "sJk9iwEvktf0",
        "outputId": "169d1ebe-a7e2-4c63-99ba-b2e3ca3850a5"
      },
      "execution_count": 15,
      "outputs": [
        {
          "output_type": "stream",
          "name": "stdout",
          "text": [
            "not\n",
            "not\n",
            "divisible by 3\n",
            "not\n",
            "divisible by 3\n",
            "divisible by 3\n",
            "divisible by 3\n",
            "divisible by 3\n",
            "divisible by 3\n",
            "divisible by 3\n",
            "not\n",
            "divisible by 3\n",
            "not\n",
            "not\n",
            "divisible by 3\n",
            "not\n",
            "not\n",
            "not\n",
            "divisible by 3\n",
            "divisible by 3\n",
            "divisible by 3\n",
            "not\n",
            "divisible by 3\n",
            "divisible by 3\n",
            "not\n"
          ]
        }
      ]
    },
    {
      "cell_type": "markdown",
      "source": [
        "Q7. What do you understand about mutable and immutable data types? Give examples for both showing \n",
        "this property."
      ],
      "metadata": {
        "id": "NEYBeuhBkuPj"
      }
    },
    {
      "cell_type": "markdown",
      "source": [
        "**Mutable Objects**\t\n",
        "* A mutable object whose internal state can be changed after it is created\n",
        "\n",
        "* mutable objects are widely used in object-oriented programming.\n",
        "\n",
        "* Examples : List, Set, Dictionary\t\n",
        "\n",
        "**Immutable Objects**\n",
        "* An immutable object internal state cannot be changed after it is created\n",
        "\n",
        "* Immutable objects are common in functional programming\n",
        "\n",
        "* Ex: tuples, int, float, bool, frozenset.\n"
      ],
      "metadata": {
        "id": "0AmVCXX2ngeZ"
      }
    }
  ]
}