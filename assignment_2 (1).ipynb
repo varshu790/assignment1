{
  "nbformat": 4,
  "nbformat_minor": 0,
  "metadata": {
    "colab": {
      "provenance": []
    },
    "kernelspec": {
      "name": "python3",
      "display_name": "Python 3"
    },
    "language_info": {
      "name": "python"
    }
  },
  "cells": [
    {
      "cell_type": "markdown",
      "source": [
        "Q1.How do you comment code in Python? What are the different types of comments?\n",
        "\n",
        "Ans- In python,we comment a code with # symbol. for example: #the code below prints my name to console print(\"varshika\"). \n",
        "\n",
        "in the above code, i have used a comment to explain what code does. when the code is being executed,the interpreter will ignore the comment and run the print() function.\n",
        "\n",
        "there are 3 type of comments:\n",
        "\n",
        "\n",
        "1.  single-line comment \n",
        "     \n",
        "     syntax for writing single line comment is-\n",
        "\n",
        "        # comment here\n",
        "\n",
        " \n",
        "2.   multi-line string comment-\n",
        "     in multi-line comment we can use single(''') quotation or double(\"\"\") qoutation\n",
        "\n",
        "      syntax for writing multi-line comment is-\n",
        "\n",
        "              ''' comment here  \n",
        "                     or\n",
        "               \"\"\" comment here\n",
        "\n",
        "\n",
        "\n",
        "\n",
        "\n",
        "\n"
      ],
      "metadata": {
        "id": "tVgUk-KhxLsT"
      }
    },
    {
      "cell_type": "markdown",
      "source": [
        "Q2.What are variables in Python? How do you declare and assign values to variables?\n",
        "\n",
        "Ans-   A Python variable is a symbolic \n",
        "  name that is a reference or pointer to an object. Once an object is assigned to a variable, you can refer to the object by that name. But the data itself is still contained within the object.\n",
        "  \n",
        "  In short variable is a containers for storing data values.\n",
        "\n",
        "  In Python, variables need not be declared or defined in advance, as is the case in many other programming languages. \n",
        "\n",
        " **How to declare a variable in Python?**\n",
        "\n",
        "1.   Just name the variable.\n",
        "2.   Assign the required value to it.\n",
        "3.   The data type of the variable will \n",
        "     be automatically determined from the value assigned, we need not define it explicitly.\n",
        "\n",
        "     For Example:\n",
        "\n",
        "         n=30\n",
        "         print(n) # n is a variable whose value is 30 \n"
      ],
      "metadata": {
        "id": "nPA4KQXaxaKN"
      }
    },
    {
      "cell_type": "markdown",
      "source": [
        "Q3 How do you convert one data type to another in Python?\n",
        "\n",
        "\n",
        "Ans-To convert between types, you simply \n",
        "  use the type name as a function.\n",
        "\n",
        "  There are several built-in functions to perform conversion from one data type to another.\n",
        "\n",
        "  For Example:\n",
        "    \n",
        "         n=388.33\n",
        "         print(int(n))\n",
        "         output- 388\n",
        "\n"
      ],
      "metadata": {
        "id": "8Igi6PQ6xaXz"
      }
    },
    {
      "cell_type": "markdown",
      "source": [
        "Q4. How do you write and execute a Python script from the command line?\n",
        "\n",
        "Ans-  The most basic and easy way to run \n",
        "  a Python script is by using the python command. You need to open a command line and type the word python followed by the path to your script file like this:\n",
        "\n",
        "     python first_script.py\n",
        "     Hello World!\n",
        "\n",
        "  Then you hit the ENTER button from the keyboard, and that's it. You can see the phrase Hello World! on the screen."
      ],
      "metadata": {
        "id": "DhQPUXSuxalh"
      }
    },
    {
      "cell_type": "markdown",
      "source": [
        " Q5-Given a list my_list = [1, 2, 3, 4, 5], write the code to slice the list and obtain the sub-list [2, 3]."
      ],
      "metadata": {
        "id": "Zl4xObsBxax0"
      }
    },
    {
      "cell_type": "code",
      "source": [
        "my_list = [1,2,3,4,5]\n",
        "my_list[1:3]"
      ],
      "metadata": {
        "colab": {
          "base_uri": "https://localhost:8080/"
        },
        "id": "vpvv2jiu_ocP",
        "outputId": "133cc4e3-4e1f-4ec3-f90a-8cf748e3413c"
      },
      "execution_count": 1,
      "outputs": [
        {
          "output_type": "execute_result",
          "data": {
            "text/plain": [
              "[2, 3]"
            ]
          },
          "metadata": {},
          "execution_count": 1
        }
      ]
    },
    {
      "cell_type": "markdown",
      "source": [
        "Q6- What is a complex number in mathematics, and how is it represented in Python?\n",
        "\n",
        "Ans- Complex numbers are the numbers that are expressed in the form of a+ib where, a,b are real numbers and 'i' is an imaginary number called “iota”. The value of i = (√-1). For example, 2+3i is a complex number, where 2 is a real number (Re) and 3i is an imaginary number (Im)\n",
        "\n",
        "\n",
        "  Complex numbers are created from two real numbers. You can create it directly or you can use the complex function.\n",
        " \n",
        " \n",
        " ** It represented in Python?**\n",
        " \n",
        "  It is written in the form of (x + yj) where x and y are real numbers and j is an imaginary number which is the square root of -1."
      ],
      "metadata": {
        "id": "C8lUK0iTxa1_"
      }
    },
    {
      "cell_type": "markdown",
      "source": [
        "Q7. What is the correct way to declare a variable named age and assign the value 25 to it?\n",
        "\n",
        "Ans- ***correct way to declear a variable is:**\n",
        "     A variable can have a short name (like x and y) or a more descriptive name (age, carname, total_volume). Rules for Python variables:\n",
        "  1. A variable name must start with a letter or the underscore character\n",
        "  2. A variable name cannot start with a number\n",
        "  3. A variable name can only contain alpha-numeric characters and underscores \n",
        "  (A-z, 0-9, and _ )\n",
        "  4. Variable names are case-sensitive (age, Age and AGE are three different variables)\n",
        "  5. A variable name cannot be any of the Python keywords."
      ],
      "metadata": {
        "id": "PvVoNET8xa5u"
      }
    },
    {
      "cell_type": "code",
      "source": [
        "age = int(24)\n",
        "Age = int(55)\n",
        "AGE = int(45)\n",
        "print(\"age\",age)\n",
        "print(\"Age\",Age)\n",
        "print(\"AGE\",AGE)"
      ],
      "metadata": {
        "colab": {
          "base_uri": "https://localhost:8080/"
        },
        "id": "-VnyNBr64vT5",
        "outputId": "d1ad9b3a-d211-4b52-df3b-409ab10f36f1"
      },
      "execution_count": 20,
      "outputs": [
        {
          "output_type": "stream",
          "name": "stdout",
          "text": [
            "age 24\n",
            "Age 55\n",
            "AGE 45\n"
          ]
        }
      ]
    },
    {
      "cell_type": "markdown",
      "source": [
        "Q8. Declare a variable named price and assign the value 9.99 to it. What data type does this variable \n",
        "belong to?"
      ],
      "metadata": {
        "id": "U78-0Txwxa92"
      }
    },
    {
      "cell_type": "code",
      "source": [
        "price = 9.99\n",
        "type(price)"
      ],
      "metadata": {
        "colab": {
          "base_uri": "https://localhost:8080/"
        },
        "id": "xBezca9-gcSD",
        "outputId": "b52f2423-dbbd-4dd8-84ff-dc2364c9abf5"
      },
      "execution_count": 2,
      "outputs": [
        {
          "output_type": "execute_result",
          "data": {
            "text/plain": [
              "float"
            ]
          },
          "metadata": {},
          "execution_count": 2
        }
      ]
    },
    {
      "cell_type": "markdown",
      "source": [
        "Q9. Create a variable named name and assign your full name to it as a string. How would you print the value of this variable?"
      ],
      "metadata": {
        "id": "VBWIYw5MxbB1"
      }
    },
    {
      "cell_type": "code",
      "source": [
        "name = \"Varshika\"\n",
        "name"
      ],
      "metadata": {
        "colab": {
          "base_uri": "https://localhost:8080/",
          "height": 36
        },
        "id": "Kvui684Lgu6C",
        "outputId": "cd8c298c-fe31-42c4-83bc-0babc7185cf8"
      },
      "execution_count": 3,
      "outputs": [
        {
          "output_type": "execute_result",
          "data": {
            "text/plain": [
              "'Varshika'"
            ],
            "application/vnd.google.colaboratory.intrinsic+json": {
              "type": "string"
            }
          },
          "metadata": {},
          "execution_count": 3
        }
      ]
    },
    {
      "cell_type": "markdown",
      "source": [
        "Q10. Given the string \"Hello, World!\", extract the substring \"World\"."
      ],
      "metadata": {
        "id": "if5h7daPxbFX"
      }
    },
    {
      "cell_type": "code",
      "source": [
        "s = \"Hello,World!\"\n",
        "e = s[6:11]\n",
        "e"
      ],
      "metadata": {
        "colab": {
          "base_uri": "https://localhost:8080/",
          "height": 36
        },
        "id": "hxRiqb9Ng_Cg",
        "outputId": "f775b333-3b06-43c5-9580-cd50ae7754d3"
      },
      "execution_count": 4,
      "outputs": [
        {
          "output_type": "execute_result",
          "data": {
            "text/plain": [
              "'World'"
            ],
            "application/vnd.google.colaboratory.intrinsic+json": {
              "type": "string"
            }
          },
          "metadata": {},
          "execution_count": 4
        }
      ]
    },
    {
      "cell_type": "markdown",
      "source": [
        "Q11. Create a variable named \"is_student\" and assign it a boolean value indicating whether you are currently a student or not."
      ],
      "metadata": {
        "id": "tf3UBNy8xbIw"
      }
    },
    {
      "cell_type": "code",
      "source": [
        "print(\"Enter value 1 or 0 to check whether you are student or not\")\n",
        "is_student = int(input())\n",
        "if is_student ==True :\n",
        "  print(\"student\")\n",
        "else:\n",
        "  print(\"not\")"
      ],
      "metadata": {
        "id": "MgN_6ZmDll9R",
        "colab": {
          "base_uri": "https://localhost:8080/"
        },
        "outputId": "07210b8f-be57-4b25-f5a8-24a6d2f2387b"
      },
      "execution_count": 17,
      "outputs": [
        {
          "output_type": "stream",
          "name": "stdout",
          "text": [
            "Enter value 1 or 0 to check whether you are student or not\n",
            "1\n",
            "student\n"
          ]
        }
      ]
    },
    {
      "cell_type": "code",
      "source": [
        "print(\"Enter value 1 or 0 to check whether you are student or not\")\n",
        "is_student = int(input())\n",
        "if is_student ==True :\n",
        "  print(\"student\")\n",
        "else:\n",
        "  print(\"not\")"
      ],
      "metadata": {
        "colab": {
          "base_uri": "https://localhost:8080/"
        },
        "id": "3_UOaO9I08Oz",
        "outputId": "f38fb31d-f7bc-4d42-aaa5-6b638ae31cf6"
      },
      "execution_count": 21,
      "outputs": [
        {
          "output_type": "stream",
          "name": "stdout",
          "text": [
            "Enter value 1 or 0 to check whether you are student or not\n",
            "0\n",
            "not\n"
          ]
        }
      ]
    },
    {
      "cell_type": "code",
      "source": [],
      "metadata": {
        "id": "vszCyoKd5ZM8"
      },
      "execution_count": null,
      "outputs": []
    }
  ]
}